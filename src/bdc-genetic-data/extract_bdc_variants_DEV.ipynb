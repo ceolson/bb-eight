{
 "cells": [
  {
   "cell_type": "code",
   "execution_count": 8,
   "metadata": {},
   "outputs": [],
   "source": [
    "library(stringr)"
   ]
  },
  {
   "cell_type": "code",
   "execution_count": 9,
   "metadata": {},
   "outputs": [],
   "source": [
    "dataset <- 'MESA' # HVH, JHS, MESA, FHS...etc.\n",
    "src.directory <- paste0('../project-files/',dataset)\n",
    "dir.create(dataset,showWarnings=FALSE)\n",
    "out.directory <- paste0(dataset,'/')"
   ]
  },
  {
   "cell_type": "code",
   "execution_count": 10,
   "metadata": {},
   "outputs": [],
   "source": [
    "filenames <- list.files(src.directory, pattern=\"NWD.*\\\\.vcf.gz$\", full.names=T)"
   ]
  },
  {
   "cell_type": "code",
   "execution_count": 14,
   "metadata": {},
   "outputs": [
    {
     "data": {
      "text/html": [
       "<style>\n",
       ".list-inline {list-style: none; margin:0; padding: 0}\n",
       ".list-inline>li {display: inline-block}\n",
       ".list-inline>li:not(:last-child)::after {content: \"\\00b7\"; padding: 0 .5ex}\n",
       "</style>\n",
       "<ol class=list-inline><li>'../project-files/MESA/NWD100343.freeze5.v1.vcf.gz'</li><li>'../project-files/MESA/NWD100368.freeze5.v1.vcf.gz'</li><li>'../project-files/MESA/NWD100720.freeze5.v1.vcf.gz'</li><li>'../project-files/MESA/NWD100793.freeze5.v1.vcf.gz'</li><li>'../project-files/MESA/NWD101098.freeze5.v1.vcf.gz'</li><li>'../project-files/MESA/NWD101273.freeze5.v1.vcf.gz'</li><li>'../project-files/MESA/NWD101724.freeze5.v1.vcf.gz'</li><li>'../project-files/MESA/NWD101761.freeze5.v1.vcf.gz'</li><li>'../project-files/MESA/NWD101927.freeze5.v1.vcf.gz'</li><li>'../project-files/MESA/NWD101942.freeze5.v1.vcf.gz'</li></ol>\n"
      ],
      "text/latex": [
       "\\begin{enumerate*}\n",
       "\\item '../project-files/MESA/NWD100343.freeze5.v1.vcf.gz'\n",
       "\\item '../project-files/MESA/NWD100368.freeze5.v1.vcf.gz'\n",
       "\\item '../project-files/MESA/NWD100720.freeze5.v1.vcf.gz'\n",
       "\\item '../project-files/MESA/NWD100793.freeze5.v1.vcf.gz'\n",
       "\\item '../project-files/MESA/NWD101098.freeze5.v1.vcf.gz'\n",
       "\\item '../project-files/MESA/NWD101273.freeze5.v1.vcf.gz'\n",
       "\\item '../project-files/MESA/NWD101724.freeze5.v1.vcf.gz'\n",
       "\\item '../project-files/MESA/NWD101761.freeze5.v1.vcf.gz'\n",
       "\\item '../project-files/MESA/NWD101927.freeze5.v1.vcf.gz'\n",
       "\\item '../project-files/MESA/NWD101942.freeze5.v1.vcf.gz'\n",
       "\\end{enumerate*}\n"
      ],
      "text/markdown": [
       "1. '../project-files/MESA/NWD100343.freeze5.v1.vcf.gz'\n",
       "2. '../project-files/MESA/NWD100368.freeze5.v1.vcf.gz'\n",
       "3. '../project-files/MESA/NWD100720.freeze5.v1.vcf.gz'\n",
       "4. '../project-files/MESA/NWD100793.freeze5.v1.vcf.gz'\n",
       "5. '../project-files/MESA/NWD101098.freeze5.v1.vcf.gz'\n",
       "6. '../project-files/MESA/NWD101273.freeze5.v1.vcf.gz'\n",
       "7. '../project-files/MESA/NWD101724.freeze5.v1.vcf.gz'\n",
       "8. '../project-files/MESA/NWD101761.freeze5.v1.vcf.gz'\n",
       "9. '../project-files/MESA/NWD101927.freeze5.v1.vcf.gz'\n",
       "10. '../project-files/MESA/NWD101942.freeze5.v1.vcf.gz'\n",
       "\n",
       "\n"
      ],
      "text/plain": [
       " [1] \"../project-files/MESA/NWD100343.freeze5.v1.vcf.gz\"\n",
       " [2] \"../project-files/MESA/NWD100368.freeze5.v1.vcf.gz\"\n",
       " [3] \"../project-files/MESA/NWD100720.freeze5.v1.vcf.gz\"\n",
       " [4] \"../project-files/MESA/NWD100793.freeze5.v1.vcf.gz\"\n",
       " [5] \"../project-files/MESA/NWD101098.freeze5.v1.vcf.gz\"\n",
       " [6] \"../project-files/MESA/NWD101273.freeze5.v1.vcf.gz\"\n",
       " [7] \"../project-files/MESA/NWD101724.freeze5.v1.vcf.gz\"\n",
       " [8] \"../project-files/MESA/NWD101761.freeze5.v1.vcf.gz\"\n",
       " [9] \"../project-files/MESA/NWD101927.freeze5.v1.vcf.gz\"\n",
       "[10] \"../project-files/MESA/NWD101942.freeze5.v1.vcf.gz\""
      ]
     },
     "metadata": {},
     "output_type": "display_data"
    }
   ],
   "source": [
    "#filenames_to_use <- filenames[1:10]\n",
    "filenames_to_use <- filenames[1:10]\n",
    "filenames_to_use"
   ]
  },
  {
   "cell_type": "code",
   "execution_count": 15,
   "metadata": {},
   "outputs": [],
   "source": [
    "for (i in 1:length(filenames_to_use)) {\n",
    "    filename <- filenames[i]\n",
    "    pattern <- \"NWD[0-9]*.\"\n",
    "    NWD <- str_extract(filename,pattern)\n",
    "    NWD <- substr(NWD,1,nchar(NWD)-1)\n",
    "    command <- paste0('bcftools view -R regions_grch38.tsv ',filename,' | grep \"^[^#;]\" > ',out.directory,NWD,'.vcf')\n",
    "    system(command,wait=TRUE)\n",
    "    print(paste0(i,\" of \",length(filenames_to_use),\" done\"))\n",
    "}"
   ]
  }
 ],
 "metadata": {
  "kernelspec": {
   "display_name": "R",
   "language": "R",
   "name": "ir"
  },
  "language_info": {
   "codemirror_mode": "r",
   "file_extension": ".r",
   "mimetype": "text/x-r-source",
   "name": "R",
   "pygments_lexer": "r",
   "version": "3.6.3"
  }
 },
 "nbformat": 4,
 "nbformat_minor": 4
}
